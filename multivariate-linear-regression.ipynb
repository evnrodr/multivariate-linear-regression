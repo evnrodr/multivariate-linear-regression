{
 "cells": [
  {
   "cell_type": "markdown",
   "metadata": {},
   "source": [
    "# Multivariate Linear Regression\n",
    "***\n",
    "\n",
    "In this notebook I'm showing the implementation of Multivariate Linear Regression (or Linear Regression with multiple variables/features)."
   ]
  },
  {
   "cell_type": "markdown",
   "metadata": {},
   "source": [
    "Steps to get it done\n",
    "In order:\n",
    "\n",
    "* import necessary libraries;\n",
    "* read the dataset and create a NumPy array from it;\n",
    "* separate X (variable) and Y (label) and initialize m;\n",
    "* add bias to the X variable;\n",
    "* initialize theta as [0, 0];\n",
    "* implement Cost Function;\n",
    "* initialize number of iterations as 1500;\n",
    "* initialize learning rate as 0.01;\n",
    "* implement Gradient Descent;\n",
    "* train the model using X, y and theta;\n",
    "* calculate some predictions using the proper theta;\n",
    "* plot the training examples and fit the regression line;\n",
    "* (optional) generate a plot of the Cost Function"
   ]
  },
  {
   "cell_type": "markdown",
   "metadata": {},
   "source": [
    "### Needed libraries\n",
    "The implementation can be done without using pandas, but for the sake of readability, I'm using it."
   ]
  },
  {
   "cell_type": "code",
   "execution_count": 1,
   "metadata": {},
   "outputs": [],
   "source": [
    "import pandas as pd\n",
    "import matplotlib.pyplot as plt\n",
    "import numpy as np"
   ]
  },
  {
   "cell_type": "markdown",
   "metadata": {},
   "source": [
    "### Reading the dataset and converting to NumPy array"
   ]
  },
  {
   "cell_type": "code",
   "execution_count": 6,
   "metadata": {},
   "outputs": [],
   "source": [
    "dataset = pd.read_csv('data.txt', sep=\",\", header=None, names=[\"size_sqf\", \"number_bedrooms\", \"price\"])\n",
    "dataset = dataset.to_numpy()"
   ]
  },
  {
   "cell_type": "markdown",
   "metadata": {},
   "source": [
    "### Separating feature from label"
   ]
  },
  {
   "cell_type": "code",
   "execution_count": 28,
   "metadata": {},
   "outputs": [],
   "source": [
    "# Separating X and y\n",
    "\n",
    "X = dataset[:, :-1]\n",
    "y = dataset[:, -1:]\n",
    "\n",
    "# Initializing m\n",
    "\n",
    "m = len(y)"
   ]
  },
  {
   "cell_type": "markdown",
   "metadata": {},
   "source": [
    "### Implementing Feature Normalization "
   ]
  },
  {
   "cell_type": "code",
   "execution_count": 29,
   "metadata": {},
   "outputs": [
    {
     "name": "stdout",
     "output_type": "stream",
     "text": [
      "47 1001.9255319148937 1143.0528202028345\n"
     ]
    }
   ],
   "source": [
    "# mu = mean(X);\n",
    "# sigma = std(X);\n",
    "# m = size(X,1);\n",
    "# mu_matrix = ones(m,1) * mu;\n",
    "# sigma_matrix = ones(m,1) * sigma;\n",
    "\n",
    "# X_norm = ((X - mu_matrix) ./ sigma_matrix);\n",
    "\n",
    "\n",
    "def featureNormalize(X, m):\n",
    "    mu = np.mean(X)\n",
    "    sigma = np.std(X)\n",
    "    print(m, mu, sigma)\n",
    "    \n",
    "featureNormalize(X, m)\n",
    "    "
   ]
  }
 ],
 "metadata": {
  "kernelspec": {
   "display_name": "Python 3",
   "language": "python",
   "name": "python3"
  },
  "language_info": {
   "codemirror_mode": {
    "name": "ipython",
    "version": 3
   },
   "file_extension": ".py",
   "mimetype": "text/x-python",
   "name": "python",
   "nbconvert_exporter": "python",
   "pygments_lexer": "ipython3",
   "version": "3.8.3"
  }
 },
 "nbformat": 4,
 "nbformat_minor": 4
}
