{
 "cells": [
  {
   "cell_type": "markdown",
   "metadata": {},
   "source": [
    "# Multivariate Linear Regression\n",
    "***\n",
    "\n",
    "In this notebook I'm showing the implementation of Multivariate Linear Regression (or Linear Regression with multiple variables/features)."
   ]
  },
  {
   "cell_type": "markdown",
   "metadata": {},
   "source": [
    "Steps to get it done\n",
    "In order:\n",
    "\n",
    "* import necessary libraries;\n",
    "* read the dataset and create a NumPy array from it;\n",
    "* separate X (variable) and Y (label) and initialize m;\n",
    "* add bias to the X variable;\n",
    "* initialize theta as [0, 0];\n",
    "* implement Cost Function;\n",
    "* initialize number of iterations as 1500;\n",
    "* initialize learning rate as 0.01;\n",
    "* implement Gradient Descent;\n",
    "* train the model using X, y and theta;\n",
    "* calculate some predictions using the proper theta;\n",
    "* plot the training examples and fit the regression line;\n",
    "* (optional) generate a plot of the Cost Function"
   ]
  },
  {
   "cell_type": "markdown",
   "metadata": {},
   "source": [
    "### Needed libraries\n",
    "The implementation can be done without using pandas, but for the sake of readability, I'm using it."
   ]
  },
  {
   "cell_type": "code",
   "execution_count": 1,
   "metadata": {},
   "outputs": [],
   "source": [
    "import pandas as pd\n",
    "import matplotlib.pyplot as plt\n",
    "import numpy as np"
   ]
  },
  {
   "cell_type": "markdown",
   "metadata": {},
   "source": [
    "### Reading the dataset and converting to NumPy array"
   ]
  },
  {
   "cell_type": "code",
   "execution_count": 2,
   "metadata": {},
   "outputs": [],
   "source": [
    "dataset = pd.read_csv('data.txt', sep=\",\", header=None, names=[\"size_sqf\", \"number_bedrooms\", \"price\"])\n",
    "dataset = dataset.to_numpy()"
   ]
  },
  {
   "cell_type": "markdown",
   "metadata": {},
   "source": [
    "### Separating feature from label"
   ]
  },
  {
   "cell_type": "code",
   "execution_count": 3,
   "metadata": {},
   "outputs": [],
   "source": [
    "# Separating X and y\n",
    "\n",
    "X = dataset[:, :-1]\n",
    "y = dataset[:, -1:]\n",
    "\n",
    "# Initializing m\n",
    "\n",
    "m = len(y)"
   ]
  },
  {
   "cell_type": "markdown",
   "metadata": {},
   "source": [
    "### Implementing Feature Normalization "
   ]
  },
  {
   "cell_type": "code",
   "execution_count": 4,
   "metadata": {},
   "outputs": [],
   "source": [
    "# mu = mean(X);\n",
    "# sigma = std(X);\n",
    "# m = size(X,1);\n",
    "# mu_matrix = ones(m,1) * mu;\n",
    "# sigma_matrix = ones(m,1) * sigma;\n",
    "\n",
    "# X_norm = ((X - mu_matrix) ./ sigma_matrix);\n",
    "\n",
    "\n",
    "def featureNormalize(X):\n",
    "    mu = np.mean(X, axis=0)\n",
    "    sigma = np.std(X, axis=0)\n",
    "    X_norm = (X - mu) / sigma\n",
    "    return mu, sigma, X_norm\n",
    "    \n",
    "mu, sigma, X = featureNormalize(X)\n",
    "X = np.concatenate((np.ones((m, 1), dtype=np.int8), X), axis=1)"
   ]
  },
  {
   "cell_type": "markdown",
   "metadata": {},
   "source": [
    "### Implementing Cost Function"
   ]
  },
  {
   "cell_type": "code",
   "execution_count": 5,
   "metadata": {},
   "outputs": [],
   "source": [
    "def computeCost(X, y, theta):\n",
    "    J = 0\n",
    "    hypothesis_func = np.dot(X, theta)\n",
    "    sqr_errors = np.power((hypothesis_func - y), 2)\n",
    "    J = (1 /(2 * m)) * np.sum(sqr_errors)\n",
    "    return J"
   ]
  },
  {
   "cell_type": "markdown",
   "metadata": {},
   "source": [
    "### Implementing Gradient Descent"
   ]
  },
  {
   "cell_type": "code",
   "execution_count": 6,
   "metadata": {},
   "outputs": [],
   "source": [
    "# Initializing iterations and learning rate\n",
    "\n",
    "iterations = 400;\n",
    "learning_rate = 0.01;"
   ]
  },
  {
   "cell_type": "code",
   "execution_count": 7,
   "metadata": {},
   "outputs": [],
   "source": [
    "def gradientDescent(X, y, theta, learning_rate, iterations):\n",
    "    cost_hist = np.zeros(iterations)\n",
    "    theta_hist = np.zeros((iterations, 2))\n",
    "    \n",
    "    for iteration in range(iterations):\n",
    "        prediction = X.dot(theta)\n",
    "        theta = theta - (1 / m) * learning_rate * (X.T.dot((prediction - y)))\n",
    "        cost_hist[iteration] = computeCost(X, y, theta)\n",
    "        \n",
    "    return theta, cost_hist"
   ]
  },
  {
   "cell_type": "markdown",
   "metadata": {},
   "source": [
    "### Training The Model"
   ]
  },
  {
   "cell_type": "code",
   "execution_count": 8,
   "metadata": {},
   "outputs": [],
   "source": [
    "# Getting the values of theta, cost function values and theta values over iterations\n",
    "theta = np.zeros((3,1))\n",
    "theta, cost_values = gradientDescent(X, y, theta, learning_rate, iterations)"
   ]
  },
  {
   "cell_type": "markdown",
   "metadata": {},
   "source": [
    "### Plotting the training examples and linear regression plot line"
   ]
  },
  {
   "cell_type": "code",
   "execution_count": 9,
   "metadata": {},
   "outputs": [],
   "source": [
    "# Defining the style of the plots\n",
    "\n",
    "plt.style.use('seaborn-whitegrid')"
   ]
  },
  {
   "cell_type": "code",
   "execution_count": 10,
   "metadata": {},
   "outputs": [
    {
     "data": {
      "image/png": "[encoded data removed]",
      "text/plain": [
       "<Figure size 720x432 with 1 Axes>"
      ]
     },
     "metadata": {},
     "output_type": "display_data"
    }
   ],
   "source": [
    "# Plotting the dataset and linear regression line\n",
    "\n",
    "fig, ax = plt.subplots(figsize=(10, 6))\n",
    "ax.plot(cost_values, '-', c=\"red\")\n",
    "plt.show()"
   ]
  },
  {
   "cell_type": "code",
   "execution_count": 11,
   "metadata": {},
   "outputs": [
    {
     "data": {
      "text/plain": [
       "2000.6808510638298"
      ]
     },
     "execution_count": 11,
     "metadata": {},
     "output_type": "execute_result"
    }
   ],
   "source": [
    "mu[0]"
   ]
  },
  {
   "cell_type": "code",
   "execution_count": 12,
   "metadata": {},
   "outputs": [
    {
     "data": {
      "text/plain": [
       "786.2026187430467"
      ]
     },
     "execution_count": 12,
     "metadata": {},
     "output_type": "execute_result"
    }
   ],
   "source": [
    "sigma[0]"
   ]
  },
  {
   "cell_type": "code",
   "execution_count": 16,
   "metadata": {},
   "outputs": [
    {
     "data": {
      "text/plain": [
       "(-0.4460438603276164, -0.2260933675776883)"
      ]
     },
     "execution_count": 16,
     "metadata": {},
     "output_type": "execute_result"
    }
   ],
   "source": [
    "temp = np.array([[1, 1650, 3]], dtype='f')\n",
    "a = (temp[0][1] - mu[0]) / sigma[0]\n",
    "b = (temp[0][2] - mu[1]) / sigma[1]\n",
    "temp[0, 1] = a\n",
    "temp[0, 2] = b\n",
    "a, b"
   ]
  },
  {
   "cell_type": "code",
   "execution_count": 17,
   "metadata": {},
   "outputs": [
    {
     "data": {
      "text/plain": [
       "array([[ 1.        , -0.44604385, -0.22609337]], dtype=float32)"
      ]
     },
     "execution_count": 17,
     "metadata": {},
     "output_type": "execute_result"
    }
   ],
   "source": [
    "temp"
   ]
  },
  {
   "cell_type": "code",
   "execution_count": 15,
   "metadata": {},
   "outputs": [
    {
     "data": {
      "text/plain": [
       "-2.544739490008884"
      ]
     },
     "execution_count": 15,
     "metadata": {},
     "output_type": "execute_result"
    }
   ],
   "source": [
    "(temp[0][1] - mu[0]) / sigma[0]"
   ]
  }
 ],
 "metadata": {
  "kernelspec": {
   "display_name": "Python 3",
   "language": "python",
   "name": "python3"
  },
  "language_info": {
   "codemirror_mode": {
    "name": "ipython",
    "version": 3
   },
   "file_extension": ".py",
   "mimetype": "text/x-python",
   "name": "python",
   "nbconvert_exporter": "python",
   "pygments_lexer": "ipython3",
   "version": "3.8.3"
  }
 },
 "nbformat": 4,
 "nbformat_minor": 4
}
